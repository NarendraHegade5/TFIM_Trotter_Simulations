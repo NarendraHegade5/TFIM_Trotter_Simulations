{
 "cells": [
  {
   "cell_type": "markdown",
   "metadata": {},
   "source": [
    "In this notebook, we will learn how to design a quantum circuit in [PyQuil](https://pyquil.readthedocs.io/en/stable/) for a given Hamiltonian and run the circuit on the Rigetti's Quantum Virtual Machine (QVM) and the Aspen quantum processor (the quantum computer!).  PyQuil is a python library developed by Rigetti for designing quantum circuits and interfacing with their quantum computer over the cloud.\n",
    "\n",
    "You can get started right away running quantum circuits with the QVM by downloading the [Forest SDK](https://www.rigetti.com/forest) from Rigetti.  With this, you can run your code locally on your computer.  In order to run jobs on the quantum processor, you must request an invite from Rigetti.\n",
    "\n",
    "The Hamiltonian we will use for our example is for a one-dimensional Ising spin chain in an external transverse magnetic field:\n",
    "\n",
    "$$H(t) = -J_z \\sum_{i=1}^{N-1} \\sigma_{i}^z \\sigma_{i+1}^z - \\epsilon_{ph}cos(\\omega_{ph}t) \\sum_{i=1}^{N} \\sigma_{i}^x$$\n",
    "\n",
    "In order to simulate the evolution of the qubits under this Hamitonian, we must apply the time-evolution operator $U(t)$ to the qubits.\n",
    "\n",
    "$$U(t) = Texp\\{-\\frac{i}{\\hbar}\\int_{0}^{t}H(t)dt\\}$$\n",
    "\n",
    "Since exponentiation of the Hamiltonian is difficult, two approximations are made:\n",
    "(1) The time-dependence of $H(t)$ must be ignored on time scales smaller than some chosen, minimal time-step $\\Delta t$.  The Hamiltonian can then be approximated as a piece-wise constant function that takes the constant value $H((j+\\frac{1}{2})\\Delta t)$ during the time interval $[j \\Delta t, (j+1) \\Delta t]$, where $j$ is some integer.\n",
    "(2) Each matrix exponential must be approximated with the Trotter decomposition.  To perform the Trotter decomposition, the Hamiltonian must be divided into components that are each efficiently diagonalizable on their own\n",
    "\n",
    "$$H(t) = H_x(t) = H_z $$ where \n",
    "$$H_z = -J_z \\sum_{i=1}^{N-1} \\sigma_{i}^z \\sigma_{i+1}^z$$ \n",
    "$$H_x = \\epsilon_{ph}cos(\\omega_{ph}t) \\sum_{i=1}^{N} \\sigma_{i}^x$$\n",
    "\n",
    "Thus, the time evolution operator is finally approximated as\n",
    "$$U(n \\Delta t) = \\prod_{j=0}^{n-1} e^{-iH_{x}((j+ \\frac{1}{2})\\Delta t)\\Delta t} e^{-iH_{z}\\Delta t}$$\n",
    "\n",
    "This circuit can be defined with the following function written in PyQuil:"
   ]
  },
  {
   "cell_type": "code",
   "execution_count": 28,
   "metadata": {},
   "outputs": [],
   "source": [
    "#import all necessary PyQuil libraries and global constants\n",
    "from pyquil.api import get_qc\n",
    "from pyquil.quil import Program\n",
    "from pyquil.paulis import PauliTerm, exponential_map\n",
    "from pyquil.gates import RZ, Z, H, MEASURE, CNOT, RESET\n",
    "import numpy as np\n",
    "import matplotlib.pyplot as plt\n",
    "%matplotlib inline \n",
    "\n",
    "# Physical constants, global variable\n",
    "H_BAR = 0.658212    # eV*fs\n",
    "Jz = 0.01183898    # eV, coupling coeff; Jz<0 is antiferromagenetic, Jz>0 is ferromagnetic\n",
    "FREQ = 0.0048       # 1/fs, frequency of MoSe2 phonon"
   ]
  },
  {
   "cell_type": "code",
   "execution_count": 29,
   "metadata": {},
   "outputs": [],
   "source": [
    "def evolution_circuit(qubits, delta_t, total_time, w_ph):\n",
    "    \"\"\"\n",
    "    Define circuit for evolution of wavefunction, i.e.,\n",
    "    H(t) = - Jz * sum_{i=1}^{N-1}(sigma_{z}^{i} * sigma_{z}^{i+1})\n",
    "           - e_ph * cos(w_ph * t) * sum_{i=1}^{N}(sigma_{x}^{i})\n",
    "\n",
    "    Args:\n",
    "    - qubits: list of qubits in system\n",
    "    - delta_t: unit of propagation time \n",
    "    - total_time: total time to evolve system\n",
    "    - w_ph: angular frequency of phonon\n",
    "    \n",
    "    Return: \n",
    "    - pyquil.Program\n",
    "    \"\"\"\n",
    "\n",
    "    # get the number of qubits\n",
    "    nqubits = len(qubits)\n",
    "    e_ph = 0.5*Jz\n",
    "    #instantiate program object for return\n",
    "    p = Program(RESET())\n",
    "\n",
    "    # decalre time e_ph as a parameter\n",
    "    # declare memory for read out\n",
    "    ro = p.declare('ro', memory_type='BIT', memory_size=nqubits)\n",
    "\n",
    "    # determine number of time steps to get to total time\n",
    "    prop_steps = int(total_time / delta_t)\n",
    "    \n",
    "    # instantiate program object for the propagator to which\n",
    "    # we add terms of Hamiltonian piece by piece\n",
    "    for step in range(0,prop_steps):\n",
    "        t = (step + 0.5) * delta_t\n",
    "        propagator_t = Program()\n",
    "        instr_set1 = []\n",
    "        instr_set2 = []\n",
    "        theta_x = -e_ph * np.cos(w_ph * t)\n",
    "\n",
    "        #make coupling terms\n",
    "        coupling_termsZ = []\n",
    "        for i in range(0, nqubits-1):\n",
    "            coupling_termsZ.append(PauliTerm(\"Z\", qubits[i], Jz)*PauliTerm(\"Z\", qubits[i+1]))\n",
    "        #make transverse magnetization terms of Hamiltonian\n",
    "        Hx = []\n",
    "        for i in range(0,nqubits):\n",
    "            Hx.append(PauliTerm(\"X\", qubits[i], theta_x))\n",
    "        for j in range(0, len(Hx)):\n",
    "            instr_set1.append(exponential_map(Hx[j])(delta_t/H_BAR))\n",
    "        for j in range(0, len(coupling_termsZ)):\n",
    "            instr_set2.append(exponential_map(coupling_termsZ[j])(delta_t/H_BAR))\n",
    "\n",
    "        # create propagator \n",
    "        propagator_t.inst(instr_set1, instr_set2)\n",
    "        p.inst(propagator_t)\n",
    "\n",
    "    # add measurement operators to each qubit\n",
    "    for i in range(0,nqubits):\n",
    "        p.inst(MEASURE(qubits[i], ro[i]))\n",
    "    \n",
    "    # return program \n",
    "    return p"
   ]
  },
  {
   "cell_type": "markdown",
   "metadata": {},
   "source": [
    "Next we define a function to set up the backend we will be using to run our program:"
   ]
  },
  {
   "cell_type": "code",
   "execution_count": 30,
   "metadata": {},
   "outputs": [],
   "source": [
    "def setup_forest_objects():\n",
    "    qc = get_qc(\"2q-qvm\") #example to use the QVM\n",
    "    #qc = get_qc(\"Aspen-4-2Q-A\", as_qvm=True)    #another way to use the QVM\n",
    "    #qc = get_qc(\"Aspen-4-4Q-A\", as_qvm=False)    #example to use the Quantum Processor\n",
    "    return qc"
   ]
  },
  {
   "cell_type": "markdown",
   "metadata": {},
   "source": [
    "**Imporant!** \n",
    "\n",
    "\n",
    "If you plan to run this code on Rigetti's server (you will only have the ability to do this once you have received an invitation from Rigetti) then you can skip the next step.  If you plan to run this code on your local computer (after downloading the Forst SDK package) you should open up two terminal windows and in the first one type: \n",
    "\"qvm -S\"\n",
    "in the second one type: \n",
    "\"quilc -S\"\n",
    "\n",
    "See [here](https://pyquil.readthedocs.io/en/stable/start.html#setting-up-server-mode-for-pyquil) for more information."
   ]
  },
  {
   "cell_type": "markdown",
   "metadata": {},
   "source": [
    "The 'setup_forest_objects' and 'evolution_circuit' functions can be used in the following code to setup the backend, create, compile, and run the quantum circuit:"
   ]
  },
  {
   "cell_type": "code",
   "execution_count": 31,
   "metadata": {},
   "outputs": [],
   "source": [
    "if __name__==\"__main__\":\n",
    "    \n",
    "    # set up the Forest object\n",
    "    qc = setup_forest_objects()\n",
    "    qubits = qc.qubits()\n",
    "    num_qubits = len(qubits) \n",
    "    trials = 100\n",
    "    # should have total_t divisible by delta_t\n",
    "    delta_t = 3     # fs\n",
    "    total_t = 150  # fs\n",
    "    num_steps = int(total_t / delta_t) + 1\n",
    "\n",
    "    # define the terms of the Hamiltonian\n",
    "    w_ph = 2.0 * np.pi * FREQ   # 1/fs\n",
    "\n",
    "    # loop over time steps\n",
    "    with open(\"results.npy\", \"wb\") as f:\n",
    "        np.save(f, (trials, num_qubits, num_steps, 1))\n",
    "        for i in range(0, num_steps):\n",
    "            # compute total time to evolve wavefunction under for this step of loop\n",
    "            evolution_time = delta_t * i\n",
    "            #create program \n",
    "            program = evolution_circuit(qubits, delta_t, evolution_time, w_ph)\n",
    "            # wrap program in loop for ntrials, compile program, and run\n",
    "            program.wrap_in_numshots_loop(trials)\n",
    "            #convert quil to native quil (native set of gates)\n",
    "            nqp = qc.compiler.quil_to_native_quil(program)\n",
    "            #compile to executable\n",
    "            executable = qc.compiler.native_quil_to_executable(nqp)\n",
    "            #run the code on the pre-defined backend\n",
    "            bitstrings = qc.run(executable)\n",
    "            ##Save bitstrings to file\n",
    "            np.save(f, bitstrings)\n",
    "\n"
   ]
  },
  {
   "cell_type": "markdown",
   "metadata": {},
   "source": [
    "Note that the results from the QVM or quantum processor will be saved to the variable 'bitstrings'.  This code saves the bitstrings to a numpy file for post-processing"
   ]
  },
  {
   "cell_type": "markdown",
   "metadata": {},
   "source": [
    "###Post-Processing\n",
    "Finally we can run some post-processing code to transform the raw results of 0's and 1's from qubit measurment.  In our case we hope to measure the average magnetization, which simply involves mapping the 0's to a magnetization of 1 and the 1's to a magnetization of -1 and averaging over all qubits."
   ]
  },
  {
   "cell_type": "code",
   "execution_count": 34,
   "metadata": {},
   "outputs": [],
   "source": [
    "import numpy as np\n",
    "import os\n",
    "import csv\n",
    "\n",
    "def average_magnetization(result: dict, shots: int):\n",
    "  \"\"\"Compute average magnetization from results of qk.execution.\n",
    "  Args:\n",
    "  - result (dict): a dictionary with the counts for each qubit, see qk.result.result module\n",
    "  - shots (int): number of trials\n",
    "  Return:\n",
    "  - average_mag (float)\n",
    "  \"\"\"\n",
    "  mag = 0\n",
    "  for spin_str, count in result.items():\n",
    "    spin_int = [1 - 2 * float(s) for s in spin_str]\n",
    "    mag += (sum(spin_int) / len(spin_int)) * count\n",
    "  average_mag = mag / shots\n",
    "  return average_mag\n",
    "\n",
    "\n",
    "if __name__==\"__main__\":\n",
    "  infile = 'results.npy'\n",
    "  outfile = 'averages.txt'\n",
    "  avg_mag = []\n",
    "  with open('results.npy', 'rb') as f:\n",
    "    trails, nqubits, num_steps, len_ephs = np.load(f)\n",
    "    for i in range(1, num_steps):\n",
    "      results = []\n",
    "      for j in range(len_ephs):\n",
    "        bitstrings = np.load(f)\n",
    "        for t in range(0, trails):\n",
    "          for q in range(0, nqubits):\n",
    "            if bitstrings[t][q] == 0:\n",
    "              bitstrings[t][q] = 1.0\n",
    "            else:\n",
    "              bitstrings[t][q] = -1.0\n",
    "        results.append(np.mean([bitstrings[:,0]]))\n",
    "      for e in range(0, len_ephs):\n",
    "        avg_mag.append(results[e])\n"
   ]
  },
  {
   "cell_type": "code",
   "execution_count": 35,
   "metadata": {},
   "outputs": [
    {
     "data": {
      "image/png": "[encoded data removed]",
      "text/plain": [
       "<Figure size 432x288 with 1 Axes>"
      ]
     },
     "metadata": {
      "needs_background": "light"
     },
     "output_type": "display_data"
    }
   ],
   "source": [
    "plt.plot(range(num_steps-1), avg_mag)\n",
    "plt.show()"
   ]
  }
 ],
 "metadata": {
  "kernelspec": {
   "display_name": "Python 3",
   "language": "python",
   "name": "python3"
  },
  "language_info": {
   "codemirror_mode": {
    "name": "ipython",
    "version": 3
   },
   "file_extension": ".py",
   "mimetype": "text/x-python",
   "name": "python",
   "nbconvert_exporter": "python",
   "pygments_lexer": "ipython3",
   "version": "3.7.1"
  }
 },
 "nbformat": 4,
 "nbformat_minor": 2
}
