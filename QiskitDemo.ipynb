{
 "cells": [
  {
   "cell_type": "markdown",
   "metadata": {},
   "source": [
    "### Introduction"
   ]
  },
  {
   "cell_type": "markdown",
   "metadata": {},
   "source": [
    "In this notebook, we will learn how to design a quantum circuit in Qiskit for a given Hamiltonian and run the circuit on the IBM's Quantum Computer and quantum simulator. [Qiskit](https://qiskit.org/) is a python library developed by IBM for designing quantum circuits and interfacing with their quantum computer over the cloud.\n",
    "\n",
    "You can get started right away by creating an [IBM Q Experience](https://quantum-computing.ibm.com/login) account.\n",
    "\n",
    "The Hamiltonian we will use for our example is for a one-dimensional Ising spin chain in an external transverse magnetic field:\n",
    "\n",
    "$$H(t) = -J_z \\sum_{i=1}^{N-1} \\sigma_{i}^z \\sigma_{i+1}^z - \\epsilon_{ph}cos(\\omega_{ph}t) \\sum_{i=1}^{N} \\sigma_{i}^x$$\n",
    "\n",
    "In order to simulate the evolution of the qubits under this Hamitonian, we must apply the time-evolution operator $U(t)$ to the qubits.\n",
    "\n",
    "$$U(t) = Texp\\{-\\frac{i}{\\hbar}\\int_{0}^{t}H(t)dt\\}$$\n",
    "\n",
    "Since exponentiation of the Hamiltonian is difficult, two approximations are made:\n",
    "(1) The time-dependence of $H(t)$ must be ignored on time scales smaller than some chosen, minimal time-step $\\Delta t$.  The Hamiltonian can then be approximated as a piece-wise constant function that takes the constant value $H((j+\\frac{1}{2})\\Delta t)$ during the time interval $[j \\Delta t, (j+1) \\Delta t]$, where $j$ is some integer.\n",
    "(2) Each matrix exponential must be approximated with the Trotter decomposition.  To perform the Trotter decomposition, the Hamiltonian must be divided into components that are each efficiently diagonalizable on their own\n",
    "\n",
    "$$H(t) = H_x(t) = H_z $$ where \n",
    "$$H_z = -J_z \\sum_{i=1}^{N-1} \\sigma_{i}^z \\sigma_{i+1}^z$$ \n",
    "$$H_x = \\epsilon_{ph}cos(\\omega_{ph}t) \\sum_{i=1}^{N} \\sigma_{i}^x$$\n",
    "\n",
    "Thus, the time evolution operator is finally approximated as\n",
    "$$U(n \\Delta t) = \\prod_{j=0}^{n-1} e^{-iH_{x}((j+ \\frac{1}{2})\\Delta t)\\Delta t} e^{-iH_{z}\\Delta t}$$\n",
    "\n",
    "This circuit can be defined with the following function written in Qiskit:"
   ]
  },
  {
   "cell_type": "code",
   "execution_count": 5,
   "metadata": {},
   "outputs": [],
   "source": [
    "#import necessary libraries\n",
    "import numpy as np\n",
    "import qiskit as qk\n",
    "from qiskit.tools.monitor import job_monitor\n",
    "from qiskit.visualization import plot_histogram, plot_gate_map, plot_circuit_layout\n",
    "\n",
    "from qiskit import Aer, IBMQ, execute\n",
    "from qiskit.providers.aer import noise\n",
    "\n",
    "import matplotlib.pyplot as plt\n",
    "%matplotlib inline \n",
    "\n",
    "#define physical parameters\n",
    "H_BAR = 0.658212    # eV*fs\n",
    "JZ = 0.01183898    # eV, coupling coeff; Jz<0 is antiferromagenetic, Jz>0 is ferromagnetic\n",
    "FREQ = 0.0048       # 1/fs, frequency of MoSe2 phonon\n",
    "\n",
    "## Parameters\n",
    "delta_t = 3      # fs\n",
    "total_t = 60     # fs\n",
    "num_steps = int(total_t / delta_t)\n",
    "\n",
    "shots = 1024\n",
    "num_qubits = 2\n",
    "\n",
    "w_ph = 2 * np.pi * FREQ\n",
    "jz_factor = [1.0] #, 0.2, 0.5, 1.0, 5.0]\n",
    "\n",
    "def evolution_circuit(qr, cr, delta_t, total_time, w_ph, e_ph, circ_name=None):\n",
    "    \"\"\"\n",
    "    Define circuit for evolution of wavefunction, i.e.,\n",
    "    H(t) = - Jz * sum_{i=1}^{N-1}(sigma_{z}^{i} * sigma_{z}^{i+1})\n",
    "           - e_ph * cos(w_ph * t) * sum_{i=1}^{N}(sigma_{x}^{i})\n",
    "\n",
    "    Args:\n",
    "    - qr: quantum registers.\n",
    "    - cr: classical registers.\n",
    "    - delta_t: unit of propagation time in attoseconds.\n",
    "    - total_time: systems's total propagation time in attoseconds.\n",
    "    - w_ph: frequency of E\" phonon in MoSe2.\n",
    "    - e_ph: strength of electron-phonon coupling.\n",
    "    - circ_name (str): name of the circuit to be created.\n",
    "    \n",
    "    Returns:\n",
    "    - A quantum circuit representating the propagation of the system.\n",
    "    \"\"\"\n",
    "    \n",
    "    num_qubits = qr.size    \n",
    "    prop_steps = int(total_time / delta_t)  # number of propagation steps\n",
    "    \n",
    "    # Instantiate quantum circuit for the propagator to which\n",
    "    #-we add terms of Hamiltonian piece by piece\n",
    "    circuit = qk.QuantumCircuit(qr, cr)\n",
    "    if circ_name:\n",
    "        circuit.name = circ_name\n",
    "\n",
    "    for step in range(prop_steps):\n",
    "        t = (step + 0.5) * delta_t\n",
    "        prop_circ = qk.QuantumCircuit(qr)\n",
    "        \n",
    "        # TODO: need comments for codeblock below?\n",
    "        psi = -2.0 * e_ph * np.cos(w_ph * t) * delta_t / H_BAR\n",
    "        prop_circ.h(qr)\n",
    "        prop_circ.rz(psi, qr)\n",
    "        prop_circ.h(qr)\n",
    "    \n",
    "        # Coupling terms\n",
    "        psi2 = -2.0 * JZ * delta_t / H_BAR\n",
    "        for i in range(num_qubits-1):\n",
    "            prop_circ.cx(qr[i], qr[i+1])\n",
    "            prop_circ.rz(psi2, qr[i+1])\n",
    "            prop_circ.cx(qr[i], qr[i+1])\n",
    "            \n",
    "        # Concatenate circuites\n",
    "        circuit += prop_circ\n",
    "        #circuit.barrier(qr)\n",
    "\n",
    "    # Add measurement operation\n",
    "    circuit.measure(qr, cr)\n",
    "#    print(circuit)\n",
    "    return circuit"
   ]
  },
  {
   "cell_type": "markdown",
   "metadata": {},
   "source": [
    "### Get backend"
   ]
  },
  {
   "cell_type": "markdown",
   "metadata": {},
   "source": [
    "In order to run our code on the quantum processor or simulator, you will need to connect with IBM's server.  To do so, you will need you API_Token, which you can find by logging in to your IBM Q Experience account under \"My Account\".\n",
    "\n",
    "The first time you run this notebook, you should run the save_account function with your token as the argument. This will since it will save your account in '~/.qiskit/qiskitrc', so all future times running this notebook you will only need to load your account with the load_account function.  You can delete this file if you need to regenerate a token with delete_account."
   ]
  },
  {
   "cell_type": "code",
   "execution_count": 6,
   "metadata": {},
   "outputs": [
    {
     "name": "stderr",
     "output_type": "stream",
     "text": [
      "/anaconda3/lib/python3.7/site-packages/qiskit/providers/ibmq/ibmqfactory.py:181: UserWarning: Credentials are already in use. The existing account in the session will be replaced.\n",
      "  warnings.warn('Credentials are already in use. The existing '\n"
     ]
    },
    {
     "data": {
      "text/plain": [
       "<AccountProvider for IBMQ(hub='ibm-q', group='open', project='main')>"
      ]
     },
     "execution_count": 6,
     "metadata": {},
     "output_type": "execute_result"
    }
   ],
   "source": [
    "#qk.IBMQ.save_account('here') ## only run once!\n",
    "#qk.IBMQ.delete_accounts() ## only run if you need to use a new token\n",
    "qk.IBMQ.load_account()"
   ]
  },
  {
   "cell_type": "markdown",
   "metadata": {},
   "source": [
    "Next, you'll want to check which backends (quantum processors) your account has access to:"
   ]
  },
  {
   "cell_type": "code",
   "execution_count": 7,
   "metadata": {},
   "outputs": [],
   "source": [
    "#choose the device you would like to run on\n",
    "device = provider.get_backend('ibmq_ourense')"
   ]
  },
  {
   "cell_type": "code",
   "execution_count": 8,
   "metadata": {},
   "outputs": [
    {
     "data": {
      "text/plain": [
       "[<IBMQSimulator('ibmq_qasm_simulator') from IBMQ(hub='ibm-q', group='open', project='main')>,\n",
       " <IBMQBackend('ibmqx2') from IBMQ(hub='ibm-q', group='open', project='main')>,\n",
       " <IBMQBackend('ibmq_16_melbourne') from IBMQ(hub='ibm-q', group='open', project='main')>,\n",
       " <IBMQBackend('ibmq_vigo') from IBMQ(hub='ibm-q', group='open', project='main')>,\n",
       " <IBMQBackend('ibmq_ourense') from IBMQ(hub='ibm-q', group='open', project='main')>]"
      ]
     },
     "execution_count": 8,
     "metadata": {},
     "output_type": "execute_result"
    }
   ],
   "source": [
    "## Show available backends\n",
    "provider = qk.IBMQ.get_provider(group='open')\n",
    "provider.backends()"
   ]
  },
  {
   "cell_type": "markdown",
   "metadata": {},
   "source": [
    "If you plan to run your code on the simulator, you may wish to gather fidelity statistics of a specific device so that you can create a noise model for the simulator to use which mimics a chosen device.  The code below shows how to gather the properties of a certain device, create the noise model, and set up the simulator as your backend"
   ]
  },
  {
   "cell_type": "code",
   "execution_count": 9,
   "metadata": {},
   "outputs": [],
   "source": [
    "#gather fidelity statistics on this device if you want to create a noise model for the simulator\n",
    "device = provider.get_backend('ibmq_ourense')\n",
    "properties = device.properties()\n",
    "coupling_map = device.configuration().coupling_map\n",
    "\n",
    "#TO RUN ON THE SIMULATOR \n",
    "#create a noise model to use for the qubits of the simulator\n",
    "noise_model = noise.device.basic_device_noise_model(properties)\n",
    "# Get the basis gates for the noise model\n",
    "basis_gates = noise_model.basis_gates\n",
    "\n",
    "# Select the QasmSimulator from the Aer provider\n",
    "simulator = Aer.get_backend('qasm_simulator')"
   ]
  },
  {
   "cell_type": "markdown",
   "metadata": {},
   "source": [
    "Alternatively, you can run your code on a quantum processor.  To do this, you must choose a specific machine as your backend to run your code on by name."
   ]
  },
  {
   "cell_type": "code",
   "execution_count": 10,
   "metadata": {},
   "outputs": [],
   "source": [
    "#To run on the quantum computer, assign a quantum computer of your choice as the backend \n",
    "backend = provider.get_backend('ibmq_ourense')"
   ]
  },
  {
   "cell_type": "markdown",
   "metadata": {},
   "source": [
    "### Build circuits & map qubits\n",
    "The next step is the create the physical quantum circuit to run on the quantum processor or simulator.  This involves creating a list of native gates that will sequentially act on the qubits, as well as mapping the logical qubits in the code to the physical qubits of the specific device that was chosen as your backend."
   ]
  },
  {
   "cell_type": "code",
   "execution_count": 11,
   "metadata": {},
   "outputs": [
    {
     "data": {
      "image/png": "[encoded data removed]",
      "text/plain": [
       "<Figure size 360x360 with 1 Axes>"
      ]
     },
     "execution_count": 11,
     "metadata": {},
     "output_type": "execute_result"
    }
   ],
   "source": [
    "## Declare registers\n",
    "q_regs = qk.QuantumRegister(num_qubits, 'q')\n",
    "c_regs = qk.ClassicalRegister(num_qubits, 'c')\n",
    "\n",
    "## Create circuit\n",
    "circuits = []\n",
    "for factor in jz_factor:\n",
    "    e_ph = factor * JZ\n",
    "    \n",
    "    for j in range(0, num_steps+1):\n",
    "        evolution_time = delta_t * j\n",
    "        name = 'circuit_eph_{}_time_{}'.format(factor, evolution_time)\n",
    "        circuits.append(evolution_circuit(q_regs, c_regs, delta_t, evolution_time, w_ph, e_ph, name))\n",
    "\n",
    "## specify qubit mapping\n",
    "circ = qk.transpile(circuits, backend=backend, optimization_level=3)\n",
    "#circ = qk.transpile(circuits, backend=backend, initial_layout=[3,4])\n",
    "\n",
    "## plot mapping\n",
    "plot_circuit_layout(circ[0], backend)"
   ]
  },
  {
   "cell_type": "markdown",
   "metadata": {},
   "source": [
    "### Run job\n",
    "Now that a circuit has been created, we can run it on our chosen backend. Note that if your job infomation can be found at: https://quantum-computing.ibm.com/"
   ]
  },
  {
   "cell_type": "code",
   "execution_count": null,
   "metadata": {},
   "outputs": [
    {
     "name": "stdout",
     "output_type": "stream",
     "text": [
      "Job Status: job is queued (1)       "
     ]
    }
   ],
   "source": [
    "#CHOOSE TO RUN ON QUANTUM COMPUTER OR SIMULATOR\n",
    "\n",
    "#quantum computer execution\n",
    "job = qk.execute(circ, backend=backend, shots=shots)\n",
    "job_monitor(job)\n",
    "\n",
    "#simulator execution\n",
    "result_noise = execute(circ, simulator, noise_model=noise_model,coupling_map=coupling_map,basis_gates=basis_gates).result()"
   ]
  },
  {
   "cell_type": "markdown",
   "metadata": {
    "scrolled": false
   },
   "source": [
    "### Post processing\n",
    "Finally we can run some post-processing code to transform the raw results of 0's and 1's from qubit measurment.  In our case we hope to measure the average magnetization, which simply involves mapping the 0's to a magnetization of 1 and the 1's to a magnetization of -1 and averaging over all qubits."
   ]
  },
  {
   "cell_type": "markdown",
   "metadata": {},
   "source": [
    "**Define functions for post-processing**"
   ]
  },
  {
   "cell_type": "code",
   "execution_count": 31,
   "metadata": {},
   "outputs": [],
   "source": [
    "import numpy as np\n",
    "import os\n",
    "import csv\n",
    "\n",
    "\n",
    "def post_pocessing(infile, outfile):\n",
    "  favg = open('averages.txt', 'w')\n",
    "  with open('test.npy', 'rb') as f:\n",
    "    trails, nqubits, num_steps, len_ephs = np.load(f)\n",
    "    for i in range(1, num_steps):\n",
    "      results = []\n",
    "      for j in range(len_ephs):\n",
    "        bitstrings = np.load(f)\n",
    "        for t in range(0, trails):\n",
    "          for q in range(0, nqubits):\n",
    "            if bitstrings[t][q] == 0:\n",
    "              bitstrings[t][q] = 1.0\n",
    "            else:\n",
    "              bitstrings[t][q] = -1.0\n",
    "        results.append(np.mean([bitstrings[:,0]]))\n",
    "      for e in range(0, len_ephs):\n",
    "        favg.write(str(results[e]))\n",
    "        favg.write('\\t')\n",
    "      favg.write('\\n')\n",
    "  favg.close()\n",
    "  print(\"Created file: {}\".format(outfile))\n",
    "\n",
    "\n",
    "def npy_to_txt(npyfile, txtfile):\n",
    "  ftxt = open(txtfile, 'w')\n",
    "  with open(npyfile, 'rb') as f:\n",
    "    _, _, num_steps, len_ephs = np.load(f)\n",
    "    for _ in range(1, num_steps):\n",
    "      for _ in range(len_ephs):\n",
    "        bitstrings = np.load(f)\n",
    "        np.savetxt(ftxt, bitstrings, fmt='%d')\n",
    "        ftxt.write('\\n')\n",
    "      ftxt.write('\\n')\n",
    "  ftxt.close()\n",
    "  print(\"Created file: {}\".format(txtfile))\n",
    "\n",
    "\n",
    "def average_magnetization(result: dict, shots: int):\n",
    "  \"\"\"Compute average magnetization from results of qk.execution.\n",
    "  Args:\n",
    "  - result (dict): a dictionary with the counts for each qubit, see qk.result.result module\n",
    "  - shots (int): number of trials\n",
    "  Return:\n",
    "  - average_mag (float)\n",
    "  \"\"\"\n",
    "  mag = 0\n",
    "  for spin_str, count in result.items():\n",
    "    spin_int = [1 - 2 * float(s) for s in spin_str]\n",
    "    mag += (sum(spin_int) / len(spin_int)) * count\n",
    "  average_mag = mag / shots\n",
    "  return average_mag"
   ]
  },
  {
   "cell_type": "code",
   "execution_count": 32,
   "metadata": {},
   "outputs": [],
   "source": [
    "#QUANTUM COMPUTER POST PROCESSING\n",
    "results = job.result()        \n",
    "\n",
    "avg_mag_qc = []\n",
    "temp = []\n",
    "i = 1\n",
    "for c in circ:\n",
    "    result_dict = results.get_counts(c)\n",
    "    temp.append(average_magnetization(result_dict, shots))\n",
    "    if i % num_steps == 0:\n",
    "        avg_mag_qc.append(temp)\n",
    "        temp = []\n",
    "    i += 1"
   ]
  },
  {
   "cell_type": "code",
   "execution_count": 33,
   "metadata": {},
   "outputs": [],
   "source": [
    "#SIMULATOR POST PROCESSING\n",
    "avg_mag_sim = []\n",
    "temp = []\n",
    "i = 1\n",
    "for c in circ:\n",
    "    result_dict = result_noise.get_counts(c)\n",
    "    temp.append(average_magnetization(result_dict, shots))\n",
    "    if i % num_steps == 0:\n",
    "        avg_mag_sim.append(temp)\n",
    "        temp = []\n",
    "    i += 1"
   ]
  },
  {
   "cell_type": "code",
   "execution_count": 36,
   "metadata": {},
   "outputs": [
    {
     "data": {
      "image/png": "[encoded data removed]",
      "text/plain": [
       "<Figure size 432x288 with 1 Axes>"
      ]
     },
     "metadata": {
      "needs_background": "light"
     },
     "output_type": "display_data"
    }
   ],
   "source": [
    "# QC\n",
    "plt.plot(range(num_steps), avg_mag_qc[0])\n",
    "plt.show()"
   ]
  },
  {
   "cell_type": "code",
   "execution_count": 37,
   "metadata": {},
   "outputs": [
    {
     "data": {
      "image/png": "[encoded data removed]",
      "text/plain": [
       "<Figure size 432x288 with 1 Axes>"
      ]
     },
     "metadata": {
      "needs_background": "light"
     },
     "output_type": "display_data"
    }
   ],
   "source": [
    "# simulator\n",
    "plt.plot(range(num_steps), avg_mag_sim[0])\n",
    "plt.show()"
   ]
  }
 ],
 "metadata": {
  "kernelspec": {
   "display_name": "Python 3",
   "language": "python",
   "name": "python3"
  },
  "language_info": {
   "codemirror_mode": {
    "name": "ipython",
    "version": 3
   },
   "file_extension": ".py",
   "mimetype": "text/x-python",
   "name": "python",
   "nbconvert_exporter": "python",
   "pygments_lexer": "ipython3",
   "version": "3.7.1"
  }
 },
 "nbformat": 4,
 "nbformat_minor": 2
}
